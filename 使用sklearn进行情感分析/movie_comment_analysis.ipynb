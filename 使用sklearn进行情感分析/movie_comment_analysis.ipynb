{
 "cells": [
  {
   "cell_type": "code",
   "execution_count": 1,
   "metadata": {},
   "outputs": [],
   "source": [
    "import os\n",
    "import time\n",
    "from sklearn.feature_extraction.text import TfidfVectorizer\n",
    "from sklearn import svm\n",
    "from sklearn.metrics import classification_report\n"
   ]
  },
  {
   "cell_type": "code",
   "execution_count": 2,
   "metadata": {},
   "outputs": [],
   "source": [
    "data_dir = 'C:/Users/123/Desktop/python/ml/txt_sentoken'#替换为实际未见路径\n",
    "classes = ['pos', 'neg']\n",
    "train_data = []\n",
    "train_labels = []\n",
    "test_data = []\n",
    "test_labels = []"
   ]
  },
  {
   "cell_type": "code",
   "execution_count": 3,
   "metadata": {},
   "outputs": [],
   "source": [
    "for curr_class in classes:\n",
    "    dirname = os.path.join(data_dir, curr_class)\n",
    "    for fname in os.listdir(dirname):\n",
    "        with open(os.path.join(dirname, fname), 'r') as f:\n",
    "                content = f.read()\n",
    "                if fname.startswith('cv9'):#十分之一作为验证数据，十分之九作为训练数据\n",
    "                    test_data.append(content)\n",
    "                    test_labels.append(curr_class)\n",
    "                else:\n",
    "                    train_data.append(content)\n",
    "                    train_labels.append(curr_class)\n",
    "                    \n",
    "        "
   ]
  },
  {
   "cell_type": "markdown",
   "metadata": {
    "slideshow": {
     "slide_type": "fragment"
    },
    "tags": [
     "parameters"
    ]
   },
   "source": [
    "\n",
    "\n",
    "让我们一步一步地分析这个代码段：\n",
    "\n",
    "1. `for fname in os.listdir(dirname):`\n",
    "\n",
    "这个循环是用于遍历目录 `dirname` 下的所有文件。`os.listdir(dirname)` 返回一个列表，其中包含目录下所有文件的文件名。\n",
    "\n",
    "例如，如果目录 `dirname` 下有以下文件：\n",
    "\n",
    "* `file1.txt`\n",
    "* `file2.txt`\n",
    "* `file3.txt`\n",
    "\n",
    "那么 `os.listdir(dirname)` 会返回一个列表 `['file1.txt', 'file2.txt', 'file3.txt']`。\n",
    "\n",
    "2. `with open(os.path.join(dirname, fname), 'r') as f:`\n",
    "\n",
    "这个语句是用于打开文件并读取其内容。\n",
    "\n",
    "* `os.path.join(dirname, fname)` 是用于构造文件路径的。它将目录路径 `dirname` 和文件名 `fname` 拼接起来，形成一个完整的文件路径。\n",
    "\n",
    "例如，如果 `dirname` 是 `/path/to/directory`，而 `fname` 是 `file1.txt`，那么 `os.path.join(dirname, fname)` 会返回 `/path/to/directory/file1.txt`。\n",
    "\n",
    "* `open()` 函数是用于打开文件的。它接受两个参数：文件路径和打开模式。打开模式 `r` 表示以读取模式打开文件。\n",
    "\n",
    "例如，如果文件路径是 `/path/to/directory/file1.txt`，而打开模式是 `r`，那么 `open()` 函数会打开文件 `/path/to/directory/file1.txt` 并返回一个文件对象。\n",
    "\n",
    "* `as f` 是用于将打开的文件对象赋值给变量 `f` 的。\n",
    "\n",
    "例如，如果 `open()` 函数返回一个文件对象 `file_object`，那么 `as f` 会将 `file_object` 赋值给变量 `f`。\n",
    "\n",
    "所以，整个语句 `with open(os.path.join(dirname, fname), 'r') as f:` 可以理解为：\n",
    "\n",
    "* 打开文件 `/path/to/directory/file1.txt` 并返回一个文件对象。\n",
    "* 将文件对象赋值给变量 `f`。\n",
    "\n",
    "3. 读取文件内容\n",
    "\n",
    "现在，我们可以使用变量 `f` 来读取文件内容。例如，我们可以使用 `f.read()` 方法来读取文件内容。\n",
    "\n",
    "例如，如果文件内容是 `Hello World!`，那么 `f.read()` 会返回字符串 `Hello World!`。\n",
    "\n",
    "所以，整个代码段可以理解为：\n",
    "\n",
    "* 遍历目录下所有文件。\n",
    "* 对于每个文件，打开文件并读取其内容。\n",
    "* 将文件内容保存在变量 `f` 中。\n",
    "\n",
    "例如，如果目录 `dirname` 下有以下文件：\n",
    "\n",
    "* `file1.txt`，内容是 `Hello World!`\n",
    "* `file2.txt`，内容是 ` Foo Bar!`\n",
    "* `file3.txt`，内容是 `Baz Qux!`\n",
    "\n",
    "那么这个代码段会输出：\n",
    "\n",
    "* `Hello World!`\n",
    "* ` Foo Bar!`\n",
    "* `Baz Qux!`"
   ]
  },
  {
   "cell_type": "code",
   "execution_count": 4,
   "metadata": {},
   "outputs": [],
   "source": [
    "vectorizer = TfidfVectorizer(min_df=5,\n",
    "                                 max_df = 0.8,\n",
    "                                 sublinear_tf=True,\n",
    "                                 use_idf=True)\n",
    "train_vectors = vectorizer.fit_transform(train_data)\n",
    "test_vectors = vectorizer.transform(test_data)"
   ]
  },
  {
   "cell_type": "code",
   "execution_count": 5,
   "metadata": {},
   "outputs": [
    {
     "name": "stdout",
     "output_type": "stream",
     "text": [
      "模型准确率: 0.915\n"
     ]
    }
   ],
   "source": [
    "from sklearn.metrics import accuracy_score# Perform classification with SVM, kernel=linear\n",
    "classifier_linear = svm.SVC(kernel='linear')\n",
    "t0 = time.time()\n",
    "classifier_linear.fit(train_vectors, train_labels)\n",
    "t1 = time.time()\n",
    "prediction_linear = classifier_linear.predict(test_vectors)\n",
    "t2 = time.time()\n",
    "time_linear_train = t1-t0\n",
    "time_linear_predict = t2-t1\n",
    "accuracy = accuracy_score(test_labels, prediction_linear)\n",
    "print(f\"模型准确率: {accuracy}\")\n"
   ]
  },
  {
   "cell_type": "code",
   "execution_count": 9,
   "metadata": {},
   "outputs": [
    {
     "name": "stdout",
     "output_type": "stream",
     "text": [
      "模型准确率: 0.89\n"
     ]
    }
   ],
   "source": [
    "classifier_rbf = svm.SVC()\n",
    "t0 = time.time()\n",
    "classifier_rbf.fit(train_vectors, train_labels)\n",
    "t1 = time.time()\n",
    "prediction_rbf = classifier_rbf.predict(test_vectors)\n",
    "t2 = time.time()\n",
    "time_rbf_train = t1-t0\n",
    "time_rbf_predict = t2-t1\n",
    "accuracy = accuracy_score(test_labels, prediction_rbf)\n",
    "print(f\"模型准确率: {accuracy}\")"
   ]
  },
  {
   "cell_type": "code",
   "execution_count": 7,
   "metadata": {},
   "outputs": [
    {
     "name": "stdout",
     "output_type": "stream",
     "text": [
      "Results for SVC(kernel=rbf)\n",
      "Training time: 6.489891s; Prediction time: 0.777534s\n",
      "              precision    recall  f1-score   support\n",
      "\n",
      "         neg       0.88      0.90      0.89       100\n",
      "         pos       0.90      0.88      0.89       100\n",
      "\n",
      "    accuracy                           0.89       200\n",
      "   macro avg       0.89      0.89      0.89       200\n",
      "weighted avg       0.89      0.89      0.89       200\n",
      "\n",
      "Results for SVC(kernel=linear)\n",
      "Training time: 6.161003s; Prediction time: 0.575778s\n",
      "              precision    recall  f1-score   support\n",
      "\n",
      "         neg       0.91      0.92      0.92       100\n",
      "         pos       0.92      0.91      0.91       100\n",
      "\n",
      "    accuracy                           0.92       200\n",
      "   macro avg       0.92      0.92      0.91       200\n",
      "weighted avg       0.92      0.92      0.91       200\n",
      "\n"
     ]
    }
   ],
   "source": [
    "\n",
    "print(\"Results for SVC(kernel=rbf)\")\n",
    "print(\"Training time: %fs; Prediction time: %fs\" % (time_rbf_train, time_rbf_predict))\n",
    "print(classification_report(test_labels, prediction_rbf))\n",
    "print(\"Results for SVC(kernel=linear)\")\n",
    "print(\"Training time: %fs; Prediction time: %fs\" % (time_linear_train, time_linear_predict))\n",
    "print(classification_report(test_labels, prediction_linear))\n",
    "\n"
   ]
  },
  {
   "cell_type": "code",
   "execution_count": null,
   "metadata": {},
   "outputs": [],
   "source": []
  }
 ],
 "metadata": {
  "kernelspec": {
   "display_name": "Python 3",
   "language": "python",
   "name": "python3"
  },
  "language_info": {
   "codemirror_mode": {
    "name": "ipython",
    "version": 3
   },
   "file_extension": ".py",
   "mimetype": "text/x-python",
   "name": "python",
   "nbconvert_exporter": "python",
   "pygments_lexer": "ipython3",
   "version": "3.12.0"
  }
 },
 "nbformat": 4,
 "nbformat_minor": 2
}
